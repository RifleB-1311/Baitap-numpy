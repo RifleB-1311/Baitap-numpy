{
  "nbformat": 4,
  "nbformat_minor": 0,
  "metadata": {
    "colab": {
      "name": "Numpy2.ipynb",
      "provenance": [],
      "authorship_tag": "ABX9TyOFwEpIGB6rjOPD2cTde5Qa",
      "include_colab_link": true
    },
    "kernelspec": {
      "name": "python3",
      "display_name": "Python 3"
    },
    "language_info": {
      "name": "python"
    }
  },
  "cells": [
    {
      "cell_type": "markdown",
      "metadata": {
        "id": "view-in-github",
        "colab_type": "text"
      },
      "source": [
        "<a href=\"https://colab.research.google.com/github/RifleB-1311/Baitap-numpy/blob/main/Numpy2.ipynb\" target=\"_parent\"><img src=\"https://colab.research.google.com/assets/colab-badge.svg\" alt=\"Open In Colab\"/></a>"
      ]
    },
    {
      "cell_type": "markdown",
      "source": [
        "Bài 1: Sử dụng thư viện NumPy, hãy tạo ra một ma trận A ∈ R7×5, giá trị các phần tử của ma trận được sinh ngẫu nhiên. Kết quả xuất ra màn hình."
      ],
      "metadata": {
        "id": "XxmfzZ_JFvuD"
      }
    },
    {
      "cell_type": "code",
      "execution_count": 7,
      "metadata": {
        "colab": {
          "base_uri": "https://localhost:8080/"
        },
        "id": "Mzlj-70nFkyJ",
        "outputId": "be6c846a-962d-4a6b-ef3e-657789ce7dfe"
      },
      "outputs": [
        {
          "output_type": "stream",
          "name": "stdout",
          "text": [
            "[[6 6 7 5 4]\n",
            " [7 5 7 4 6]\n",
            " [0 8 9 4 4]\n",
            " [7 9 0 8 3]\n",
            " [3 6 6 0 6]\n",
            " [6 8 8 6 6]\n",
            " [8 0 8 1 5]]\n"
          ]
        }
      ],
      "source": [
        "import numpy as np\n",
        "A = np.random.randint(10,size=(7,5))\n",
        "print(A)"
      ]
    },
    {
      "cell_type": "markdown",
      "source": [
        "Bài 2 – Ma trận không (zero matrix): Ma trận Am×n được gọi là ma trận không khi ai,j = 0, ∀i,j.\n",
        "Sử dụng thư viện NumPy, hãy tạo một ma trận 0 - A6×7. Gợi ý: sử dụng hàm numpy.zeros((m,n)).\n",
        "Kết quả xuất ra màn hình."
      ],
      "metadata": {
        "id": "qhhQ5tkmOF2h"
      }
    },
    {
      "cell_type": "code",
      "source": [
        "import numpy as np\n",
        "A = np.zeros((6,7))\n",
        "print(A)"
      ],
      "metadata": {
        "colab": {
          "base_uri": "https://localhost:8080/"
        },
        "id": "TEtOwM9MOJ6i",
        "outputId": "3558f8c3-f8d3-4536-e174-97a6aab647c1"
      },
      "execution_count": 8,
      "outputs": [
        {
          "output_type": "stream",
          "name": "stdout",
          "text": [
            "[[0. 0. 0. 0. 0. 0. 0.]\n",
            " [0. 0. 0. 0. 0. 0. 0.]\n",
            " [0. 0. 0. 0. 0. 0. 0.]\n",
            " [0. 0. 0. 0. 0. 0. 0.]\n",
            " [0. 0. 0. 0. 0. 0. 0.]\n",
            " [0. 0. 0. 0. 0. 0. 0.]]\n"
          ]
        }
      ]
    },
    {
      "cell_type": "markdown",
      "source": [
        "Bài 3 – Ma trận vuông: Là ma trận có số hàng và số cột bằng nhau. Sử dụng thư viện NumPy, hãy tạo ra một ma trận A ∈ R7×7, giá trị các phần tử của ma trận được sinh ngẫu nhiên. Kết quả xuất ra màn hình."
      ],
      "metadata": {
        "id": "K80KGmRuOTxw"
      }
    },
    {
      "cell_type": "code",
      "source": [
        "import numpy as np\n",
        "A = np.random.randint(10,size=(7,7))\n",
        "print(A)"
      ],
      "metadata": {
        "colab": {
          "base_uri": "https://localhost:8080/"
        },
        "id": "FU8PZlDfOb4q",
        "outputId": "cdd0570f-7347-4fd7-a371-8df6cc233540"
      },
      "execution_count": 9,
      "outputs": [
        {
          "output_type": "stream",
          "name": "stdout",
          "text": [
            "[[5 4 8 3 1 3 3]\n",
            " [7 0 3 6 3 2 9]\n",
            " [0 1 1 6 8 0 9]\n",
            " [2 3 3 5 5 7 9]\n",
            " [1 7 8 4 2 0 6]\n",
            " [2 0 4 6 6 2 8]\n",
            " [7 4 9 6 0 1 2]]\n"
          ]
        }
      ]
    },
    {
      "cell_type": "markdown",
      "source": [
        "Bài 4 – Ma trận chéo (diagonal matrix): Ma trận vuông có các phần tử trên đường chéo ai,i ≠ 0 trong khi các phần tử còn lại ai,j = 0, ∀i ≠ j.\n",
        "Sử dụng thư viện NumPy, hãy tạo một ma trận chéo A6×6 với phần tử nằm trên đường chéo có giá trị là 15. Gợi ý: sử dụng kết hợp hàm numpy.zeros() và numpy.fill_diagonal(). Kết quả xuất ra màn hình."
      ],
      "metadata": {
        "id": "bFw8Y0W3OvVE"
      }
    },
    {
      "cell_type": "code",
      "source": [
        "import numpy as np\n",
        "A = np.zeros((6,6),int)\n",
        "np.fill_diagonal(A,15)\n",
        "print(A)"
      ],
      "metadata": {
        "colab": {
          "base_uri": "https://localhost:8080/"
        },
        "id": "2oeOF_5uO4Gc",
        "outputId": "c4b48b06-bbae-4088-9d6f-6bdad60cc027"
      },
      "execution_count": 11,
      "outputs": [
        {
          "output_type": "stream",
          "name": "stdout",
          "text": [
            "[[15  0  0  0  0  0]\n",
            " [ 0 15  0  0  0  0]\n",
            " [ 0  0 15  0  0  0]\n",
            " [ 0  0  0 15  0  0]\n",
            " [ 0  0  0  0 15  0]\n",
            " [ 0  0  0  0  0 15]]\n"
          ]
        }
      ]
    },
    {
      "cell_type": "markdown",
      "source": [
        "Bài 5 – Ma trận tam giác trên (upper triangular matrix): Ma trận vuông An×n được gọi là ma\n",
        "trận tam giác trên nếu các phần tử nằm trên đường chéo đều khác 0 và các phần tử nằm dưới đường\n",
        "chéo đều bằng 0.\n",
        "Sử dụng thư viện NumPy, hãy tạo một ma trận tam giác trên A8×8. Gợi ý: sử dụng hàm\n",
        "numpy.triu(). Kết quả xuất ra màn hình."
      ],
      "metadata": {
        "id": "RISvR8y1TQ6v"
      }
    },
    {
      "cell_type": "code",
      "source": [
        "import numpy as np\n",
        "a= np.random.randint(10,size=(8,8))\n",
        "b=np.triu(a,-1)\n",
        "print(b)"
      ],
      "metadata": {
        "colab": {
          "base_uri": "https://localhost:8080/"
        },
        "id": "hAeoXaoQTUXu",
        "outputId": "00a2e605-82a4-4191-ba6c-8192170235bd"
      },
      "execution_count": 16,
      "outputs": [
        {
          "output_type": "stream",
          "name": "stdout",
          "text": [
            "[[9 5 0 7 8 3 7 2]\n",
            " [2 7 7 8 8 0 3 6]\n",
            " [0 1 4 8 1 8 0 8]\n",
            " [0 0 7 7 4 1 6 1]\n",
            " [0 0 0 9 4 9 2 0]\n",
            " [0 0 0 0 9 9 2 2]\n",
            " [0 0 0 0 0 3 0 4]\n",
            " [0 0 0 0 0 0 0 9]]\n"
          ]
        }
      ]
    },
    {
      "cell_type": "markdown",
      "source": [
        "Bài 6 – Ma trận tam giác dưới (lower triangular matrix): Tương tự bài 5, bạn hãy xây dựng\n",
        "ma trận tam giác dưới. Kết quả xuất ra màn hình."
      ],
      "metadata": {
        "id": "MC51YiJSUD6B"
      }
    },
    {
      "cell_type": "code",
      "source": [
        "import numpy as np\n",
        "a= np.random.randint(10,size=(8,8))\n",
        "b=np.tril(a)\n",
        "print(b)"
      ],
      "metadata": {
        "colab": {
          "base_uri": "https://localhost:8080/"
        },
        "id": "VSwlptYZUGXF",
        "outputId": "5cf3217e-a043-4f57-c512-3ddef050142e"
      },
      "execution_count": 21,
      "outputs": [
        {
          "output_type": "stream",
          "name": "stdout",
          "text": [
            "[[9 0 0 0 0 0 0 0]\n",
            " [6 1 0 0 0 0 0 0]\n",
            " [3 5 7 0 0 0 0 0]\n",
            " [9 2 9 0 0 0 0 0]\n",
            " [1 5 3 3 8 0 0 0]\n",
            " [3 3 0 4 4 6 0 0]\n",
            " [8 9 1 8 7 3 7 0]\n",
            " [8 9 7 1 4 6 1 8]]\n"
          ]
        }
      ]
    },
    {
      "cell_type": "markdown",
      "source": [
        "Bài 7 – Ma trận đơn vị (identity matrix): Ma trận đơn vị In có số chiều n là một ma trận vuông\n",
        "mà mọi phần tử trên đường chéo chính bằng 1. Sử dụng thư viện NumPy, hãy tạo ra một ma trận\n",
        "I9\n",
        ". Kết quả xuất ra màn hình. Gợi ý: sử dụng hàm numpy.identity()"
      ],
      "metadata": {
        "id": "nSdt9eEpUVoW"
      }
    },
    {
      "cell_type": "code",
      "source": [
        "import numpy as np\n",
        "a = np.identity(9)\n",
        "print(a)"
      ],
      "metadata": {
        "colab": {
          "base_uri": "https://localhost:8080/"
        },
        "id": "tvrCDzGwUYr-",
        "outputId": "0549d713-e34a-489f-af41-00f8131f856c"
      },
      "execution_count": 23,
      "outputs": [
        {
          "output_type": "stream",
          "name": "stdout",
          "text": [
            "[[1. 0. 0. 0. 0. 0. 0. 0. 0.]\n",
            " [0. 1. 0. 0. 0. 0. 0. 0. 0.]\n",
            " [0. 0. 1. 0. 0. 0. 0. 0. 0.]\n",
            " [0. 0. 0. 1. 0. 0. 0. 0. 0.]\n",
            " [0. 0. 0. 0. 1. 0. 0. 0. 0.]\n",
            " [0. 0. 0. 0. 0. 1. 0. 0. 0.]\n",
            " [0. 0. 0. 0. 0. 0. 1. 0. 0.]\n",
            " [0. 0. 0. 0. 0. 0. 0. 1. 0.]\n",
            " [0. 0. 0. 0. 0. 0. 0. 0. 1.]]\n"
          ]
        }
      ]
    },
    {
      "cell_type": "markdown",
      "source": [
        "Bài 8 – Phép toán trên ma trận:#Hãy sinh ngẫu nhiên 2 ma trận có kích thước 6x7. Thực hiện phép cộng 2 ma trận trên. Xuất giá trị các ma trận ra màn hình."
      ],
      "metadata": {
        "id": "SHQx7lTGUtx-"
      }
    },
    {
      "cell_type": "code",
      "source": [
        "import numpy as np\n",
        "\n",
        "a= np.random.randint(5,size=(6,7))    \n",
        "b= np.random.randint(5,size=(6,7))\n",
        "print(\"Ma trận thứ 1:\\n\",a)\n",
        "print(\"Ma trận thứ 2:\\n\",b)\n",
        "print(\"Tổng 2 ma trận:\\n\",a+b)\n"
      ],
      "metadata": {
        "colab": {
          "base_uri": "https://localhost:8080/"
        },
        "id": "OtzxBOTkU3HN",
        "outputId": "5c9831fd-25c5-45c8-8595-b1ad6b20a10f"
      },
      "execution_count": 42,
      "outputs": [
        {
          "output_type": "stream",
          "name": "stdout",
          "text": [
            "Ma trận thứ 1:\n",
            " [[4 0 1 2 2 0 1]\n",
            " [4 3 4 3 4 1 4]\n",
            " [0 2 3 2 1 1 4]\n",
            " [0 4 3 0 4 1 3]\n",
            " [2 3 4 1 1 1 0]\n",
            " [3 3 0 1 4 3 2]]\n",
            "Ma trận thứ 2:\n",
            " [[1 3 0 2 0 1 4]\n",
            " [0 3 3 3 0 4 1]\n",
            " [3 1 0 2 0 0 4]\n",
            " [3 3 3 0 1 0 4]\n",
            " [1 0 1 4 2 2 2]\n",
            " [2 1 2 3 4 1 4]]\n",
            "Tổng 2 ma trận:\n",
            " [[5 3 1 4 2 1 5]\n",
            " [4 6 7 6 4 5 5]\n",
            " [3 3 3 4 1 1 8]\n",
            " [3 7 6 0 5 1 7]\n",
            " [3 3 5 5 3 3 2]\n",
            " [5 4 2 4 8 4 6]]\n"
          ]
        }
      ]
    },
    {
      "cell_type": "markdown",
      "source": [
        "Hãy sinh ngẫu nhiên 1 ma trận có kích thước 5x8. Thực hiện nhân vô hướng 1 số được nhập từ bàn phím với ma trận này. Kết quả xuất ra màn hình."
      ],
      "metadata": {
        "id": "DqgvVauIYIbG"
      }
    },
    {
      "cell_type": "code",
      "source": [
        "x= np.random.randint(5,size=(5,8))    \n",
        "print(\"Ma trận ngẫu nhiên:\\n\",x)\n",
        "n= int(input(\"Mời nhập 1 số: \"))\n",
        "print(\"Tích vô hướng 1 số với ma  trận:\\n\", n*x)"
      ],
      "metadata": {
        "colab": {
          "base_uri": "https://localhost:8080/"
        },
        "id": "c0sz-F6PYAPQ",
        "outputId": "b9d39ebc-53c3-4520-fbde-55e272645d8c"
      },
      "execution_count": 43,
      "outputs": [
        {
          "output_type": "stream",
          "name": "stdout",
          "text": [
            "Ma trận ngẫu nhiên:\n",
            " [[2 4 1 3 0 3 0 2]\n",
            " [2 1 3 4 1 1 4 0]\n",
            " [0 1 4 3 1 1 0 3]\n",
            " [2 4 4 4 2 2 3 0]\n",
            " [1 2 4 3 2 1 1 4]]\n",
            "Mời nhập 1 số: 2\n",
            "Tích vô hướng 1 số với ma  trận:\n",
            " [[4 8 2 6 0 6 0 4]\n",
            " [4 2 6 8 2 2 8 0]\n",
            " [0 2 8 6 2 2 0 6]\n",
            " [4 8 8 8 4 4 6 0]\n",
            " [2 4 8 6 4 2 2 8]]\n"
          ]
        }
      ]
    },
    {
      "cell_type": "markdown",
      "source": [
        "Phép chuyển vị ma trận: Sinh ngẫu nhiên một ma trận có kích thước 3x7. Thực hiện phép\n",
        "chuyển vị đối với ma trận này. Xuất các ma trận này ra màn hình."
      ],
      "metadata": {
        "id": "lN4IDdFrYPUm"
      }
    },
    {
      "cell_type": "code",
      "source": [
        "y= np.random.randint(5, size = (3,7))\n",
        "print(\"Ma trận được tạo ngẫu nhiên:\\n\",y)\n",
        "t=np.transpose(y)\n",
        "print(\"Ma trận sau khi được chuyển vị:\\n\",t)"
      ],
      "metadata": {
        "colab": {
          "base_uri": "https://localhost:8080/"
        },
        "id": "wzJZTbcfYCMh",
        "outputId": "66371f42-8978-4db3-bad7-48d1a32ea9be"
      },
      "execution_count": 44,
      "outputs": [
        {
          "output_type": "stream",
          "name": "stdout",
          "text": [
            "Ma trận được tạo ngẫu nhiên:\n",
            " [[2 1 3 4 0 0 0]\n",
            " [1 4 1 0 0 0 2]\n",
            " [0 3 4 1 0 1 3]]\n",
            "Ma trận sau khi được chuyển vị:\n",
            " [[2 1 0]\n",
            " [1 4 3]\n",
            " [3 1 4]\n",
            " [4 0 1]\n",
            " [0 0 0]\n",
            " [0 0 1]\n",
            " [0 2 3]]\n"
          ]
        }
      ]
    },
    {
      "cell_type": "markdown",
      "source": [
        "Phép nhân 2 ma trận: Am×n ∙ Bn×p = Cm×p. Hãy sinh ngẫu nhiên 2 ma trận A5×7 và B7×3,\n",
        "tiến hành nhân 2 ma trận này để thu được ma trận C5×3. Xuất các ma trận trên ra màn hình.\n",
        "Gợi ý: sử dụng hàm numpy.dot()"
      ],
      "metadata": {
        "id": "UvPp0y0tYkVh"
      }
    },
    {
      "cell_type": "code",
      "source": [
        "import numpy as np\n",
        "a= np.random.randint(5,size=(5,7))\n",
        "b= np.random.randint(5,size=(7,3))\n",
        "print(\"Tích 2 ma trận :\\n\", np.dot(a,b))"
      ],
      "metadata": {
        "colab": {
          "base_uri": "https://localhost:8080/"
        },
        "id": "m7y5xHL1YoQw",
        "outputId": "008433e2-0269-4d05-84d1-a4ca4608a7e0"
      },
      "execution_count": 41,
      "outputs": [
        {
          "output_type": "stream",
          "name": "stdout",
          "text": [
            "Tích 2 ma trận :\n",
            " [[46 46 11]\n",
            " [53 50 11]\n",
            " [28 32  7]\n",
            " [36 39 13]\n",
            " [37 28  7]]\n"
          ]
        }
      ]
    },
    {
      "cell_type": "markdown",
      "source": [
        "Cho ma trận A5×7, hãy tính ma trận khả nghịch của A. Gợi ý: sử dụng hàm numpy.linalg.inv()"
      ],
      "metadata": {
        "id": "P3DwFUsrZ8RB"
      }
    },
    {
      "cell_type": "code",
      "source": [
        "import numpy as np \n",
        "a= np.random.randint(5,size=(5,5))\n",
        "print(\"Ma trận lúc đầu: \\n\",a)\n",
        "b= np.linalg.inv(a)\n",
        "print(\"Ma trận khả nghịch: \\n\",b)"
      ],
      "metadata": {
        "colab": {
          "base_uri": "https://localhost:8080/"
        },
        "id": "oPQpl29abmnr",
        "outputId": "81d3233d-98a3-4b7e-96ea-34f798e14919"
      },
      "execution_count": 75,
      "outputs": [
        {
          "output_type": "stream",
          "name": "stdout",
          "text": [
            "Ma trận lúc đầu: \n",
            " [[3 2 4 2 1]\n",
            " [0 2 2 4 3]\n",
            " [4 2 2 0 0]\n",
            " [0 0 3 0 2]\n",
            " [4 3 0 4 0]]\n",
            "Ma trận khả nghịch: \n",
            " [[-0.375    -0.5      -0.15625   0.9375    0.6875  ]\n",
            " [ 0.25      1.        0.9375   -1.625    -1.125   ]\n",
            " [ 0.5       0.       -0.125    -0.25     -0.25    ]\n",
            " [ 0.1875   -0.25     -0.546875  0.28125   0.40625 ]\n",
            " [-0.75     -0.        0.1875    0.875     0.375   ]]\n"
          ]
        }
      ]
    },
    {
      "cell_type": "markdown",
      "source": [
        "Bài 9 – Vector là dạng ma trận đặc biệt: Sử dụng numpy để thực hiện các yêu cầu sau\n",
        "\n",
        "- Vector hàng (row vector) thực chất là ma trận có kích thước 1 × n. Hãy tạo ngẫu nhiên 1 vector hàng - x có kích thước 1 × 8. Kết quả xuất ra màn hình.\n",
        "\n",
        "- Vector cột (column vector) thực chất là ma trận có kích thước m × 1. Hãy tạo ngẫu nhiên\n",
        "1 vector cột – x có kích thước 8 × 1. Kết quả xuất ra màn hình."
      ],
      "metadata": {
        "id": "TEM_pR8HeWGk"
      }
    },
    {
      "cell_type": "code",
      "source": [
        "import numpy as np\n",
        "a = np.random.randint(5,size=(1,8))\n",
        "print(a)\n",
        "b= np.random.randint(5,size=(8,1))\n",
        "print(b)"
      ],
      "metadata": {
        "colab": {
          "base_uri": "https://localhost:8080/"
        },
        "id": "XUy4_uT8ebws",
        "outputId": "a13f593f-7be8-448f-d391-d588b9ecaa82"
      },
      "execution_count": 67,
      "outputs": [
        {
          "output_type": "stream",
          "name": "stdout",
          "text": [
            "[[3 3 1 2 0 2 3 2]]\n",
            "[[1]\n",
            " [0]\n",
            " [2]\n",
            " [3]\n",
            " [1]\n",
            " [2]\n",
            " [2]\n",
            " [2]]\n"
          ]
        }
      ]
    }
  ]
}