{
  "nbformat": 4,
  "nbformat_minor": 0,
  "metadata": {
    "colab": {
      "name": "Pandas02.ipynb",
      "provenance": [],
      "authorship_tag": "ABX9TyPbp/FNY+I96JAS2HV7L0Cc",
      "include_colab_link": true
    },
    "kernelspec": {
      "name": "python3",
      "display_name": "Python 3"
    },
    "language_info": {
      "name": "python"
    }
  },
  "cells": [
    {
      "cell_type": "markdown",
      "metadata": {
        "id": "view-in-github",
        "colab_type": "text"
      },
      "source": [
        "<a href=\"https://colab.research.google.com/github/RifleB-1311/Baitap-numpy/blob/main/Pandas02.ipynb\" target=\"_parent\"><img src=\"https://colab.research.google.com/assets/colab-badge.svg\" alt=\"Open In Colab\"/></a>"
      ]
    },
    {
      "cell_type": "markdown",
      "source": [
        "Câu 1: Tạo các Series với kích thước 1x10 thỏa mãn yêu cầu:\n",
        "- Series 1: có tên là “Họ và tên” và dữ liệu (định tính) do bạn tự nhập vào\n",
        "- Series 2: có tên là “Ngày sinh” & dữ liệu do bạn tự nhập vào\n",
        "- Series 3: có tên là “Tiền công/h” có dữ liệu định lượng do bạn tự nhập\n",
        "- Series 4: có tên là “Số h công” có dữ liệu định lượng do bạn tự nhập\n",
        "- Series 5: có tên là “Thực lĩnh” có kích thước 1x10 và để trống\n",
        "Hãy:\n",
        "- Tạo 1 dataframe bằng cách ghép các series trên lại với nhau\n",
        "- Hãy tính giá trị cho cột (column) “Thực lĩnh” theo công thức:\n",
        "Thực lĩnh = “Số h công” x “Tiền công/h”\n",
        "\n",
        "- Hãy in toàn bộ dataframe ở trên ra màn hình"
      ],
      "metadata": {
        "id": "aCKBr_7xo8dh"
      }
    },
    {
      "cell_type": "code",
      "execution_count": null,
      "metadata": {
        "colab": {
          "base_uri": "https://localhost:8080/"
        },
        "id": "-kUGYNkin-IF",
        "outputId": "900a5694-9af0-4885-c890-21413a2be616"
      },
      "outputs": [
        {
          "output_type": "stream",
          "name": "stdout",
          "text": [
            "[140, 153, 120, 171, 64, 154, 204, 56, 315, 270]\n",
            "     Tên   Ngày sinh  Lương theo giờ  Giờ làm  Lương\n",
            "0  270.0    1/1/2000               7       20    140\n",
            "1    NaN    2/2/2000               9       17    153\n",
            "2    NaN    3/3/2000               8       15    120\n",
            "3    NaN    4/4/2000               9       19    171\n",
            "4    NaN    5/5/2000               8        8     64\n",
            "5    NaN    6/6/2000               7       22    154\n",
            "6    NaN    7/7/2000               6       34    204\n",
            "7    NaN    8/8/2000               7        8     56\n",
            "8    NaN    9/9/2000               9       35    315\n",
            "9    NaN  10/10/2000              10       27    270\n"
          ]
        }
      ],
      "source": [
        "import pandas as pd\n",
        "a = [\"Nguyễn A\", \"Nguyễn B\", \"Nguyễn C\", \"Nguyễn D\", \"Nguyễn E\", \"Nguyễn F\", \"Nguyễn G\", \"Nguyễn H\", \"Nguyễn I\", \"Nguyễn J\"]\n",
        "b = [\"1/1/2000\", \"2/2/2000\", \"3/3/2000\", \"4/4/2000\", \"5/5/2000\", \"6/6/2000\", \"7/7/2000\", \"8/8/2000\", \"9/9/2000\", \"10/10/2000\"]\n",
        "c = [7, 9, 8, 9, 8, 7, 6, 7, 9, 10]\n",
        "d = [20, 17, 15, 19, 8, 22, 34, 8, 35, 27]\n",
        "f = []\n",
        "for i in range(0, len(c)):\n",
        "    a = c[i]*d[i]\n",
        "    f.append(a)\n",
        "name = pd.Series(a, name=\"Tên\")\n",
        "birthday = pd.Series(b, name = \"Ngày sinh\")\n",
        "salaryh = pd.Series(c, name = \"Lương theo giờ\")\n",
        "workh = pd.Series(d, name = \"Giờ làm\")\n",
        "salary = pd.Series(f, name = \"Lương\")\n",
        "name1= pd.DataFrame(name)\n",
        "print(f)\n",
        "n = pd.concat([name1, birthday, salaryh, workh, salary], axis=1)\n",
        "print(n)"
      ]
    },
    {
      "cell_type": "markdown",
      "source": [
        "Câu 2: Khởi tạo dataframe bằng các phương pháp khác nhau, hãy:\n",
        "- Tạo dataframe có kích thước 10x3 từ cấu trúc list tương ứng, với dữ liệu cho dataframe\n",
        "này gồm các cột Họ tên, Tuổi và Giới tính. Xuất kết quả ra màn hình;\n",
        "- Tạo dataframe như trên nhưng từ cấu trúc Dictionary có chứa các List giá trị tương ứng\n",
        "với key. Xuất kết quả ra màn hình;\n",
        "- Tạo dataframe như trên nhưng từ cấu trúc List của các dictionary. Xuất kết quả ra màn\n",
        "hình;\n",
        "- Tạo 3 list (1x10) tương ứng với Họ tên, Tuổi và Giới tính. Sử dụng hàm zip() để tạo\n",
        "dataframe từ 3 list riêng biệt này. Xuất kết quả ra màn hình."
      ],
      "metadata": {
        "id": "uqc5tP_qsGX4"
      }
    },
    {
      "cell_type": "code",
      "source": [
        "import pandas as pd\n",
        "import numpy as np\n",
        "a = [[\"Nguyễn A\", \"Nguyễn B\", \"Nguyễn C\", \"Nguyễn D\", \"Nguyễn E\", \"Nguyễn F\", \"Nguyễn G\", \"Nguyễn H\", \"Nguyễn I\", \"Nguyễn J\"],\n",
        "     [16, 17,18,19,20,21,22,23,24,25],\n",
        "     [\"Nam\", \"Nam\", \"Nam\", \"Nam\", \"Nam\", \"Nữ\", \"Nam\", \"Nam\", \"Nam\", \"Nữ\"]]\n",
        "b = np.array(a)\n",
        "b1 = np.transpose(b)\n",
        "a1 = pd.DataFrame(b1, columns = [\"Tên\", \"tuổi\", \"Giới Tính\"])\n",
        "print(a1)"
      ],
      "metadata": {
        "id": "FEjEPvgLsLYW",
        "outputId": "dcc7f044-bb19-4dd4-85c0-d6defd7ed438",
        "colab": {
          "base_uri": "https://localhost:8080/"
        }
      },
      "execution_count": 5,
      "outputs": [
        {
          "output_type": "stream",
          "name": "stdout",
          "text": [
            "        Tên tuổi Giới Tính\n",
            "0  Nguyễn A   16       Nam\n",
            "1  Nguyễn B   17       Nam\n",
            "2  Nguyễn C   18       Nam\n",
            "3  Nguyễn D   19       Nam\n",
            "4  Nguyễn E   20       Nam\n",
            "5  Nguyễn F   21        Nữ\n",
            "6  Nguyễn G   22       Nam\n",
            "7  Nguyễn H   23       Nam\n",
            "8  Nguyễn I   24       Nam\n",
            "9  Nguyễn J   25        Nữ\n"
          ]
        }
      ]
    },
    {
      "cell_type": "code",
      "source": [
        "import pandas as pd\n",
        "a = {\"Tên\" :[\"Nguyễn A\", \"Nguyễn B\", \"Nguyễn C\", \"Nguyễn D\", \"Nguyễn E\", \"Nguyễn F\", \"Nguyễn G\", \"Nguyễn H\", \"Nguyễn I\", \"Nguyễn J\"],\n",
        "\"Tuổi\": [16, 17,18,19,20,21,22,23,24,25],\n",
        "\"Giới tính\": [\"Nam\", \"Nam\", \"Nam\", \"Nam\", \"Nam\", \"Nữ\", \"Nam\", \"Nam\", \"Nam\", \"Nữ\"]}\n",
        "n = pd.DataFrame(a)\n",
        "print(n)"
      ],
      "metadata": {
        "id": "kfI2bVI3DgSy",
        "outputId": "ed175580-c891-4a03-864e-6e8d2dd121d5",
        "colab": {
          "base_uri": "https://localhost:8080/"
        }
      },
      "execution_count": 6,
      "outputs": [
        {
          "output_type": "stream",
          "name": "stdout",
          "text": [
            "        Tên  Tuổi Giới tính\n",
            "0  Nguyễn A    16       Nam\n",
            "1  Nguyễn B    17       Nam\n",
            "2  Nguyễn C    18       Nam\n",
            "3  Nguyễn D    19       Nam\n",
            "4  Nguyễn E    20       Nam\n",
            "5  Nguyễn F    21        Nữ\n",
            "6  Nguyễn G    22       Nam\n",
            "7  Nguyễn H    23       Nam\n",
            "8  Nguyễn I    24       Nam\n",
            "9  Nguyễn J    25        Nữ\n"
          ]
        }
      ]
    },
    {
      "cell_type": "code",
      "source": [
        "import pandas as pd\n",
        "a = [{\"Tên\":\"Nguyễn A\", \"Tuổi\":16, \"Giới tính\": \"Nam\"},\n",
        "     {\"Tên\":\"Nguyễn B\", \"Tuổi\":17, \"Giới tính\": \"Nam\"},\n",
        "     {\"Tên\":\"Nguyễn C\", \"Tuổi\":18, \"Giới tính\": \"Nam\"},\n",
        "     {\"Tên\":\"Nguyễn D\", \"Tuổi\":19, \"Giới tính\": \"Nam\"},\n",
        "     {\"Tên\":\"Nguyễn E\", \"Tuổi\":20, \"Giới tính\": \"Nam\"},\n",
        "     {\"Tên\":\"Nguyễn F\", \"Tuổi\":21, \"Giới tính\": \"Nữ\"},\n",
        "     {\"Tên\":\"Nguyễn G\", \"Tuổi\":22, \"Giới tính\": \"Nam\"},\n",
        "     {\"Tên\":\"Nguyễn H\", \"Tuổi\":23, \"Giới tính\": \"Nam\"},\n",
        "     {\"Tên\":\"Nguyễn I\", \"Tuổi\":24, \"Giới tính\": \"Nam\"},\n",
        "     {\"Tên\":\"Nguyễn J\", \"Tuổi\":25, \"Giới tính\": \"Nữ\"}]\n",
        "n = pd.DataFrame(a)\n",
        "print(n)"
      ],
      "metadata": {
        "id": "sUdBBsoyDt_3",
        "outputId": "6fa8e11a-5ddd-434e-c6ff-4a6ce757dbeb",
        "colab": {
          "base_uri": "https://localhost:8080/"
        }
      },
      "execution_count": 8,
      "outputs": [
        {
          "output_type": "stream",
          "name": "stdout",
          "text": [
            "        Tên  Tuổi Giới tính\n",
            "0  Nguyễn A    16       Nam\n",
            "1  Nguyễn B    17       Nam\n",
            "2  Nguyễn C    18       Nam\n",
            "3  Nguyễn D    19       Nam\n",
            "4  Nguyễn E    20       Nam\n",
            "5  Nguyễn F    21        Nữ\n",
            "6  Nguyễn G    22       Nam\n",
            "7  Nguyễn H    23       Nam\n",
            "8  Nguyễn I    24       Nam\n",
            "9  Nguyễn J    25        Nữ\n"
          ]
        }
      ]
    },
    {
      "cell_type": "code",
      "source": [
        "import pandas as pd\n",
        "a = [\"Nguyễn A\", \"Nguyễn B\", \"Nguyễn C\", \"Nguyễn D\", \"Nguyễn E\", \"Nguyễn F\", \"Nguyễn G\", \"Nguyễn H\", \"Nguyễn I\", \"Nguyễn J\"]\n",
        "b = [16,17,18,19,20,21,22,23,24,25]\n",
        "c = [\"Nam\", \"Nam\", \"Nam\", \"Nam\", \"Nam\", \"Nữ\", \"Nam\", \"Nam\", \"Nam\", \"Nữ\"]\n",
        "d = list(zip(a, b, c))\n",
        "d1 = pd.DataFrame(d, columns = [\"Tên\", \"Tuổi\", \"Giới tính\"])\n",
        "print(d1)"
      ],
      "metadata": {
        "id": "7jhEobMAEHWm",
        "outputId": "80345d65-0f7e-44fd-8847-b64aee308f85",
        "colab": {
          "base_uri": "https://localhost:8080/"
        }
      },
      "execution_count": 9,
      "outputs": [
        {
          "output_type": "stream",
          "name": "stdout",
          "text": [
            "        Tên  Tuổi Giới tính\n",
            "0  Nguyễn A    16       Nam\n",
            "1  Nguyễn B    17       Nam\n",
            "2  Nguyễn C    18       Nam\n",
            "3  Nguyễn D    19       Nam\n",
            "4  Nguyễn E    20       Nam\n",
            "5  Nguyễn F    21        Nữ\n",
            "6  Nguyễn G    22       Nam\n",
            "7  Nguyễn H    23       Nam\n",
            "8  Nguyễn I    24       Nam\n",
            "9  Nguyễn J    25        Nữ\n"
          ]
        }
      ]
    }
  ]
}