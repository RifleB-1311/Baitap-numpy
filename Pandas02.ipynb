{
  "nbformat": 4,
  "nbformat_minor": 0,
  "metadata": {
    "colab": {
      "name": "Pandas02.ipynb",
      "provenance": [],
      "authorship_tag": "ABX9TyNhTBQUjSbz/t05GKiLSkkw",
      "include_colab_link": true
    },
    "kernelspec": {
      "name": "python3",
      "display_name": "Python 3"
    },
    "language_info": {
      "name": "python"
    }
  },
  "cells": [
    {
      "cell_type": "markdown",
      "metadata": {
        "id": "view-in-github",
        "colab_type": "text"
      },
      "source": [
        "<a href=\"https://colab.research.google.com/github/RifleB-1311/Baitap-numpy/blob/main/Pandas02.ipynb\" target=\"_parent\"><img src=\"https://colab.research.google.com/assets/colab-badge.svg\" alt=\"Open In Colab\"/></a>"
      ]
    },
    {
      "cell_type": "markdown",
      "source": [
        "Câu 1: Tạo các Series với kích thước 1x10 thỏa mãn yêu cầu:\n",
        "- Series 1: có tên là “Họ và tên” và dữ liệu (định tính) do bạn tự nhập vào\n",
        "- Series 2: có tên là “Ngày sinh” & dữ liệu do bạn tự nhập vào\n",
        "- Series 3: có tên là “Tiền công/h” có dữ liệu định lượng do bạn tự nhập\n",
        "- Series 4: có tên là “Số h công” có dữ liệu định lượng do bạn tự nhập\n",
        "- Series 5: có tên là “Thực lĩnh” có kích thước 1x10 và để trống\n",
        "Hãy:\n",
        "- Tạo 1 dataframe bằng cách ghép các series trên lại với nhau\n",
        "- Hãy tính giá trị cho cột (column) “Thực lĩnh” theo công thức:\n",
        "Thực lĩnh = “Số h công” x “Tiền công/h”\n",
        "\n",
        "- Hãy in toàn bộ dataframe ở trên ra màn hình"
      ],
      "metadata": {
        "id": "aCKBr_7xo8dh"
      }
    },
    {
      "cell_type": "code",
      "execution_count": 7,
      "metadata": {
        "colab": {
          "base_uri": "https://localhost:8080/"
        },
        "id": "-kUGYNkin-IF",
        "outputId": "900a5694-9af0-4885-c890-21413a2be616"
      },
      "outputs": [
        {
          "output_type": "stream",
          "name": "stdout",
          "text": [
            "[140, 153, 120, 171, 64, 154, 204, 56, 315, 270]\n",
            "     Tên   Ngày sinh  Lương theo giờ  Giờ làm  Lương\n",
            "0  270.0    1/1/2000               7       20    140\n",
            "1    NaN    2/2/2000               9       17    153\n",
            "2    NaN    3/3/2000               8       15    120\n",
            "3    NaN    4/4/2000               9       19    171\n",
            "4    NaN    5/5/2000               8        8     64\n",
            "5    NaN    6/6/2000               7       22    154\n",
            "6    NaN    7/7/2000               6       34    204\n",
            "7    NaN    8/8/2000               7        8     56\n",
            "8    NaN    9/9/2000               9       35    315\n",
            "9    NaN  10/10/2000              10       27    270\n"
          ]
        }
      ],
      "source": [
        "import pandas as pd\n",
        "a = [\"Nguyễn A\", \"Nguyễn B\", \"Nguyễn C\", \"Nguyễn D\", \"Nguyễn E\", \"Nguyễn F\", \"Nguyễn G\", \"Nguyễn H\", \"Nguyễn I\", \"Nguyễn J\"]\n",
        "b = [\"1/1/2000\", \"2/2/2000\", \"3/3/2000\", \"4/4/2000\", \"5/5/2000\", \"6/6/2000\", \"7/7/2000\", \"8/8/2000\", \"9/9/2000\", \"10/10/2000\"]\n",
        "c = [7, 9, 8, 9, 8, 7, 6, 7, 9, 10]\n",
        "d = [20, 17, 15, 19, 8, 22, 34, 8, 35, 27]\n",
        "f = []\n",
        "for i in range(0, len(c)):\n",
        "    a = c[i]*d[i]\n",
        "    f.append(a)\n",
        "name = pd.Series(a, name=\"Tên\")\n",
        "birthday = pd.Series(b, name = \"Ngày sinh\")\n",
        "salaryh = pd.Series(c, name = \"Lương theo giờ\")\n",
        "workh = pd.Series(d, name = \"Giờ làm\")\n",
        "salary = pd.Series(f, name = \"Lương\")\n",
        "name1= pd.DataFrame(name)\n",
        "print(f)\n",
        "n = pd.concat([name1, birthday, salaryh, workh, salary], axis=1)\n",
        "print(n)"
      ]
    },
    {
      "cell_type": "markdown",
      "source": [
        "Câu 2: Khởi tạo dataframe bằng các phương pháp khác nhau, hãy:\n",
        "- Tạo dataframe có kích thước 10x3 từ cấu trúc list tương ứng, với dữ liệu cho dataframe\n",
        "này gồm các cột Họ tên, Tuổi và Giới tính. Xuất kết quả ra màn hình;\n",
        "- Tạo dataframe như trên nhưng từ cấu trúc Dictionary có chứa các List giá trị tương ứng\n",
        "với key. Xuất kết quả ra màn hình;\n",
        "- Tạo dataframe như trên nhưng từ cấu trúc List của các dictionary. Xuất kết quả ra màn\n",
        "hình;\n",
        "- Tạo 3 list (1x10) tương ứng với Họ tên, Tuổi và Giới tính. Sử dụng hàm zip() để tạo\n",
        "dataframe từ 3 list riêng biệt này. Xuất kết quả ra màn hình."
      ],
      "metadata": {
        "id": "uqc5tP_qsGX4"
      }
    },
    {
      "cell_type": "code",
      "source": [
        ""
      ],
      "metadata": {
        "id": "FEjEPvgLsLYW"
      },
      "execution_count": null,
      "outputs": []
    }
  ]
}