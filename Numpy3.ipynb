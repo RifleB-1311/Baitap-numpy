{
  "nbformat": 4,
  "nbformat_minor": 0,
  "metadata": {
    "colab": {
      "name": "Numpy3.ipynb",
      "provenance": [],
      "collapsed_sections": [],
      "authorship_tag": "ABX9TyMAXpTbJVg1OxzhCoEqEeaa",
      "include_colab_link": true
    },
    "kernelspec": {
      "name": "python3",
      "display_name": "Python 3"
    },
    "language_info": {
      "name": "python"
    }
  },
  "cells": [
    {
      "cell_type": "markdown",
      "metadata": {
        "id": "view-in-github",
        "colab_type": "text"
      },
      "source": [
        "<a href=\"https://colab.research.google.com/github/RifleB-1311/Baitap-numpy/blob/main/Numpy3.ipynb\" target=\"_parent\"><img src=\"https://colab.research.google.com/assets/colab-badge.svg\" alt=\"Open In Colab\"/></a>"
      ]
    },
    {
      "cell_type": "markdown",
      "source": [
        "Câu 1: Hãy trình bày cú pháp của hàm apply_along_axis() và ý nghĩa của từng tham số của hàm\n",
        "này."
      ],
      "metadata": {
        "id": "nH4ZKwzRTXo5"
      }
    },
    {
      "cell_type": "code",
      "source": [
        "numpy.apply_along_axis (1d_func, axis, array, * args, ** kwargs)\n",
        "\n",
        "1d_func: hàm bắt buộc để thực hiện trên mảng 1D. Nó chỉ có thể được áp dụng trong các lát 1D của mảng đầu vào và dọc theo một trục cụ thể.\n",
        "trục: trục bắt buộc dọc theo đó chúng tôi muốn mảng đầu vào được cắt\n",
        "mảng: mảng đầu vào để làm việc\n",
        "* args: Đối số bổ sung cho 1D_ function\n",
        "** kwargs: Các đối số bổ sung cho 1D_ Chức năng"
      ],
      "metadata": {
        "id": "-ZtyexZOTkFG"
      },
      "execution_count": null,
      "outputs": []
    },
    {
      "cell_type": "markdown",
      "source": [
        "Câu 2: Tạo một ma trận A15x17 có giá trị ngẫu nhiên\n",
        "\n"
      ],
      "metadata": {
        "id": "9AF0v2WOTd8N"
      }
    },
    {
      "cell_type": "code",
      "source": [
        "import numpy as np\n",
        "a= np.random.randint(100,size=(15,17))\n",
        "print(\"Ma trận ngẫu nhiên: \\n\", a)\n",
        "\n"
      ],
      "metadata": {
        "colab": {
          "base_uri": "https://localhost:8080/"
        },
        "id": "HwPeVqcHT9jR",
        "outputId": "b93c3a0e-3ad7-406b-c207-5a034fc3e042"
      },
      "execution_count": 3,
      "outputs": [
        {
          "output_type": "stream",
          "name": "stdout",
          "text": [
            "Ma trận ngẫu nhiên: \n",
            " [[69 13 61 61 11 27 30 30  4 44 79  9 34 55 32 54  2]\n",
            " [45 25 18 74  0 80 79 47 26 60 53  8 25  4 19 58 74]\n",
            " [55 43 53 43 48 57 99 50 39  7 61 98 98 98 76 71  8]\n",
            " [ 9 42  2 15 21 11 28 88 96 59 30 79 69 34 36 34 81]\n",
            " [71 52 63 53 31 78 79 83 48 91 48 37  7 58 31 41 59]\n",
            " [28 33 33 60 28 23 81 71 19 32 79 22 10 19  6 95 70]\n",
            " [74 41  3 14 93 28  9 77 26 13 46 34 27 74 91 28 33]\n",
            " [93 92 76 28 69 17 31 88 15 68 61  5 99 83  4 42 46]\n",
            " [91 53 46 42 99  1 24 75 20 15  6 81 30 86 76 53 19]\n",
            " [21 33 47 20 38 23 35 21 19 27 52 44 87 98 25 71 23]\n",
            " [94 86 93 65 32 48 16 29 89  1 67 57 41  1  8 95 81]\n",
            " [52 47 19  0 16 96 19 10 30 26 54 65 65 62 38 59 81]\n",
            " [10  5 78 11 19 51 65 36 42 68 22 77 93 89 74 83 22]\n",
            " [27 29 12  2 49 67  0 88  8 73 38 63 73 39 67 53 86]\n",
            " [70 65 11 75 28 70 24 19  9 43 15  8 56 87 98  6 68]]\n"
          ]
        }
      ]
    },
    {
      "cell_type": "markdown",
      "source": [
        "Câu 3: Xây dựng hàm tìm giá trị lớn nhất có tên là tim_gia_tri_lon_nhat(vector_a) có tham số\n",
        "đầu vào là 1 vector a và giá trị trả về là giá trị phần tử lớn nhất của vector này. Áp dụng hàm này\n",
        "theo từng hàng của ma trận A ở Câu 1 và xuất kết quả ra màn hình."
      ],
      "metadata": {
        "id": "g8rmj4qoUH07"
      }
    },
    {
      "cell_type": "code",
      "source": [
        "b = np.apply_along_axis(max, 1, a)\n",
        "print(b)\n",
        "    \n"
      ],
      "metadata": {
        "colab": {
          "base_uri": "https://localhost:8080/"
        },
        "id": "7gm_s0RnUNO3",
        "outputId": "e71d2da0-1389-425f-89ba-72ad9bc552ea"
      },
      "execution_count": 6,
      "outputs": [
        {
          "output_type": "stream",
          "name": "stdout",
          "text": [
            "[79 80 99 96 91 95 93 99 99 98 95 96 93 88 98]\n"
          ]
        }
      ]
    },
    {
      "cell_type": "code",
      "source": [
        "Câu 4: Xây dựng hàm tìm giá trị nhỏ nhất có tên là tim_gia_tri_nho_nhat(vector_a) có tham số\n",
        "đầu vào là 1 vector a và giá trị trả về là giá trị phần tử nhỏ nhất của vector này. Áp dụng hàm này\n",
        "theo từng cột của ma trận A ở Câu 1 và xuất kết quả ra màn hình."
      ],
      "metadata": {
        "id": "ZuMuRX9L8pLU"
      },
      "execution_count": null,
      "outputs": []
    },
    {
      "cell_type": "code",
      "source": [
        "c = np.apply_along_axis(max, 0, a)\n",
        "print(c)"
      ],
      "metadata": {
        "colab": {
          "base_uri": "https://localhost:8080/"
        },
        "id": "0SAWt-h9Y72q",
        "outputId": "b875f725-da82-49ee-b783-7377697305ea"
      },
      "execution_count": 5,
      "outputs": [
        {
          "output_type": "stream",
          "name": "stdout",
          "text": [
            "[94 92 93 75 99 96 99 88 96 91 79 98 99 98 98 95 86]\n"
          ]
        }
      ]
    },
    {
      "cell_type": "markdown",
      "source": [
        "Câu 5: Xây dựng hàm tìm giá trị lớn nhất có tên là tinh_tong(vector_a) có tham số đầu vào là 1\n",
        "vector a và giá trị trả về là tổng các phần tử của vector này. Áp dụng hàm này theo từng hàng của\n",
        "ma trận A ở Câu 1 và xuất kết quả ra màn hình."
      ],
      "metadata": {
        "id": "7blZE1hiZDhS"
      }
    },
    {
      "cell_type": "code",
      "source": [
        "import numpy as np\n",
        "d = np.apply_along_axis(sum, 0, a)\n",
        "print(d)"
      ],
      "metadata": {
        "colab": {
          "base_uri": "https://localhost:8080/"
        },
        "id": "beNz8iB8ZF7n",
        "outputId": "0620d42a-69d0-4733-d6f2-f276a13ab1f5"
      },
      "execution_count": 7,
      "outputs": [
        {
          "output_type": "stream",
          "name": "stdout",
          "text": [
            "[809 659 615 563 582 677 619 812 490 627 711 687 814 887 681 843 753]\n"
          ]
        }
      ]
    },
    {
      "cell_type": "markdown",
      "source": [
        "Câu 6: Xây dựng hàm tìm giá trị lớn nhất có tên là tinh_tong_2(vector_a) có tham số đầu vào là\n",
        "1 vector a và giá trị trả về là tổng các phần tử có chỉ số lẻ (1 – 3 – 5 , .v.v.) của vector này. Áp\n",
        "dụng hàm này theo từng cột của ma trận A ở Câu 1 và xuất kết quả ra màn hình. Tiếp tục áp dụng\n",
        "hàm này theo từng hàng của ma trận A kể trên và xuất kết quả ra màn hình."
      ],
      "metadata": {
        "id": "ipZVHxHgZIQH"
      }
    },
    {
      "cell_type": "code",
      "source": [
        "def tinh_tong2(a): \n",
        "    s = 0\n",
        "    for i in range(0,len(a)): \n",
        "        if i % 2 != 0: \n",
        "            s += a[i]\n",
        "    return s\n",
        "e = np.apply_along_axis(tinh_tong2, 0, a)\n",
        "print(e)\n",
        "f = np.apply_along_axis(tinh_tong2, 1, a)\n",
        "print(f)"
      ],
      "metadata": {
        "colab": {
          "base_uri": "https://localhost:8080/"
        },
        "id": "fJJ39glzZOSH",
        "outputId": "c6d74140-aaae-4c0e-8c4c-5bcd50352d93"
      },
      "execution_count": 8,
      "outputs": [
        {
          "output_type": "stream",
          "name": "stdout",
          "text": [
            "[275 301 207 199 221 317 273 413 213 345 367 286 428 339 195 412 461]\n",
            "[293 356 467 362 493 355 309 423 406 337 382 365 420 414 373]\n"
          ]
        }
      ]
    }
  ]
}