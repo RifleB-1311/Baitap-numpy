{
  "nbformat": 4,
  "nbformat_minor": 0,
  "metadata": {
    "colab": {
      "name": "Pandas01.ipynb",
      "provenance": [],
      "collapsed_sections": [],
      "authorship_tag": "ABX9TyM0ab7wN5kyvUcDD4vc2Aps",
      "include_colab_link": true
    },
    "kernelspec": {
      "name": "python3",
      "display_name": "Python 3"
    },
    "language_info": {
      "name": "python"
    }
  },
  "cells": [
    {
      "cell_type": "markdown",
      "metadata": {
        "id": "view-in-github",
        "colab_type": "text"
      },
      "source": [
        "<a href=\"https://colab.research.google.com/github/RifleB-1311/Baitap-numpy/blob/main/Pandas01.ipynb\" target=\"_parent\"><img src=\"https://colab.research.google.com/assets/colab-badge.svg\" alt=\"Open In Colab\"/></a>"
      ]
    },
    {
      "cell_type": "markdown",
      "source": [
        "Câu 1: Khởi tạo 1 Series với giá trị rỗng"
      ],
      "metadata": {
        "id": "hqH4XC2CAy5L"
      }
    },
    {
      "cell_type": "code",
      "execution_count": 1,
      "metadata": {
        "colab": {
          "base_uri": "https://localhost:8080/"
        },
        "id": "cEjrBvoVg84u",
        "outputId": "3a4955fc-7001-4b72-d2f2-43d99d51492a"
      },
      "outputs": [
        {
          "output_type": "stream",
          "name": "stdout",
          "text": [
            "[nan nan nan]\n"
          ]
        }
      ],
      "source": [
        "import numpy as np\n",
        "a = np.empty((3))\n",
        "a[:] = None\n",
        "print(a)\n"
      ]
    },
    {
      "cell_type": "markdown",
      "source": [
        "Câu 2: Giả sử có 1 vector hàng a có kích thước (1x7) được biểu diễn trong NumPy, hãy tạo 1\n",
        "series tương ứng với các giá trị được sinh ngẫu nhiên."
      ],
      "metadata": {
        "id": "pbBNk4luBQQt"
      }
    },
    {
      "cell_type": "code",
      "source": [
        "import numpy as np\n",
        "import pandas\n",
        "import random\n",
        "lst=[]\n",
        "for i in range(7):\n",
        "  var = random.randrange(10)\n",
        "  lst.append(var)\n",
        "a = np.array(lst)\n",
        "print(a)\n",
        "myvar = pd.Series(a, index = [\"a[0]\", \"a[1]\", \"a[2]\",\"a[3]\",\"a[4]\",\"a[5]\",\"a[6]\"])\n",
        "print(myvar)"
      ],
      "metadata": {
        "colab": {
          "base_uri": "https://localhost:8080/"
        },
        "id": "WUT3CusdBS9s",
        "outputId": "90fb3abb-348c-476e-a842-e90a9a4061c7"
      },
      "execution_count": null,
      "outputs": [
        {
          "output_type": "stream",
          "name": "stdout",
          "text": [
            "[2 4 5 9 4 1 2]\n",
            "a[0]    2\n",
            "a[1]    4\n",
            "a[2]    5\n",
            "a[3]    9\n",
            "a[4]    4\n",
            "a[5]    1\n",
            "a[6]    2\n",
            "dtype: int64\n"
          ]
        }
      ]
    },
    {
      "cell_type": "markdown",
      "source": [
        "Câu 3: Giả sử có 1 vector hàng a có kích thước (1x7), hãy nhập các giá trị cho 7 phần tử này từ\n",
        "bàn phím và tạo series tương ứng."
      ],
      "metadata": {
        "id": "Iw4Q55uvFf3v"
      }
    },
    {
      "cell_type": "code",
      "source": [
        "import numpy as np\n",
        "import pandas as pd\n",
        "lst=[]\n",
        "for i in range(7):\n",
        "  var= int(input(\"Mời nhập giá trị: \"))\n",
        "  lst.append(var)\n",
        "a = np.array(lst)\n",
        "print(a)\n",
        "myvar = pd.Series(a, index = [\"a[0]\", \"a[1]\", \"a[2]\",\"a[3]\",\"a[4]\",\"a[5]\",\"a[6]\"])\n",
        "print(myvar)"
      ],
      "metadata": {
        "colab": {
          "base_uri": "https://localhost:8080/"
        },
        "id": "-mvQ5-KMFgnI",
        "outputId": "5fbf6887-f72d-4d80-d77c-288f80bb2096"
      },
      "execution_count": null,
      "outputs": [
        {
          "output_type": "stream",
          "name": "stdout",
          "text": [
            "Mời nhập giá trị: 1\n",
            "Mời nhập giá trị: 2\n",
            "Mời nhập giá trị: 3\n",
            "Mời nhập giá trị: 4\n",
            "Mời nhập giá trị: 5\n",
            "Mời nhập giá trị: 6\n",
            "Mời nhập giá trị: 7\n",
            "[1 2 3 4 5 6 7]\n",
            "a[0]    1\n",
            "a[1]    2\n",
            "a[2]    3\n",
            "a[3]    4\n",
            "a[4]    5\n",
            "a[5]    6\n",
            "a[6]    7\n",
            "dtype: int64\n"
          ]
        }
      ]
    },
    {
      "cell_type": "markdown",
      "source": [
        "Câu 4: Giả sử có 1 vector cột có kích thước (7x1) được biểu diễn trong NumPy, hãy tạo Series\n",
        "tương ứng."
      ],
      "metadata": {
        "id": "OOf4Duk0QvHQ"
      }
    },
    {
      "cell_type": "code",
      "source": [
        "import numpy as np\n",
        "import pandas as pd\n",
        "#lst=[1,2,3,4,5,6,7]\n",
        "#a= np.array(lst)\n",
        "#print(a)\n",
        "a= np.random.randint(10,size=(7,1))\n",
        "print(a)\n",
        "b=[]\n",
        "for i in a:\n",
        "  b.append(i)\n",
        "print(b)"
      ],
      "metadata": {
        "colab": {
          "base_uri": "https://localhost:8080/"
        },
        "id": "hR8YqxpJReXP",
        "outputId": "40a25998-5490-4390-e6aa-b7d1f79e0ce2"
      },
      "execution_count": null,
      "outputs": [
        {
          "output_type": "stream",
          "name": "stdout",
          "text": [
            "[[7]\n",
            " [9]\n",
            " [3]\n",
            " [3]\n",
            " [0]\n",
            " [1]\n",
            " [1]]\n",
            "[array([7]), array([9]), array([3]), array([3]), array([0]), array([1]), array([1])]\n"
          ]
        }
      ]
    },
    {
      "cell_type": "markdown",
      "source": [
        "Câu 5: Chuyển đổi dữ liệu, hãy thực hiện các yêu cầu sau:\n",
        "- Chuyển 1 list thành 1 series\n",
        "- Chuyển 1 tuple thành 1 series\n",
        "- Chuyển 1 dictionary thành 1 series\n"
      ],
      "metadata": {
        "id": "k9N3_JBVmzoH"
      }
    },
    {
      "cell_type": "code",
      "source": [
        "import pandas as pd\n",
        "a = [1,2,3,4,5]\n",
        "b = list((1,2,3,4,5))\n",
        "c = {1: 9, 2: 8, 3: 7}\n",
        "d = pd.Series(a)\n",
        "e = pd.Series(b)\n",
        "f = pd.Series(c)\n",
        "print(d)\n",
        "print(e)\n",
        "print(f)"
      ],
      "metadata": {
        "colab": {
          "base_uri": "https://localhost:8080/"
        },
        "id": "M674AgaImzxP",
        "outputId": "a717ab61-7524-4e72-ea06-40506dcaa280"
      },
      "execution_count": 3,
      "outputs": [
        {
          "output_type": "stream",
          "name": "stdout",
          "text": [
            "0    1\n",
            "1    2\n",
            "2    3\n",
            "3    4\n",
            "4    5\n",
            "dtype: int64\n",
            "0    1\n",
            "1    2\n",
            "2    3\n",
            "3    4\n",
            "4    5\n",
            "dtype: int64\n",
            "1    9\n",
            "2    8\n",
            "3    7\n",
            "dtype: int64\n"
          ]
        }
      ]
    },
    {
      "cell_type": "markdown",
      "source": [
        "Câu 6: Mỗi phần tử của series đều gắn liền với các chỉ số (index) tương ứng, hãy tạo một series\n",
        "có kích thước (1x20) với giá trị ngẫu nhiên:\n",
        "- Xuất series ra màn hình\n",
        "- Xuất các chỉ số của series ra màn hình\n",
        "- Thay đổi cách đánh chỉ số mặc định của series từ đánh chỉ số bằng số nguyên sang các kiểu\n",
        "đánh chỉ số bằng label và in kết quả ra màn hình\n",
        "Gợi ý:\n",
        "- Hàm loc() dùng cho chỉ số label\n",
        "- Hàm iloc() dùng cho chỉ số đạng số nguyên\n",
        "- Hàm ix(): dùng cho cả 2 loại chỉ số trên"
      ],
      "metadata": {
        "id": "bunCOmsonOGK"
      }
    },
    {
      "cell_type": "code",
      "source": [
        "import random\n",
        "import pandas as pd\n",
        "a = []\n",
        "for i in range(0,20):\n",
        "    b = random.randint(0,40)\n",
        "    a.append(b)\n",
        "n = pd.Series(a)\n",
        "print(n)\n",
        "for i in range(0,20):\n",
        "    print(a[i])\n",
        "c = pd.Series(a, index = [\"a\", \"b\", \"c\", \"d\", \"e\", \"f\", \"g\", \"h\", \"i\", \"j\", \"k\", \"l\", \"m\", \"n\", \"o\", \"p\", \"q\", \"r\", \"s\", \"t\"])\n",
        "print(c)"
      ],
      "metadata": {
        "colab": {
          "base_uri": "https://localhost:8080/"
        },
        "id": "WkUOsOIPnQ8n",
        "outputId": "79ff8589-0768-4e4a-b5c0-61ba37ea82d7"
      },
      "execution_count": 4,
      "outputs": [
        {
          "output_type": "stream",
          "name": "stdout",
          "text": [
            "0      0\n",
            "1     18\n",
            "2      0\n",
            "3     12\n",
            "4     17\n",
            "5     23\n",
            "6     36\n",
            "7     33\n",
            "8     15\n",
            "9     38\n",
            "10    39\n",
            "11     2\n",
            "12    16\n",
            "13    20\n",
            "14    14\n",
            "15    37\n",
            "16    10\n",
            "17    40\n",
            "18    20\n",
            "19    19\n",
            "dtype: int64\n",
            "0\n",
            "18\n",
            "0\n",
            "12\n",
            "17\n",
            "23\n",
            "36\n",
            "33\n",
            "15\n",
            "38\n",
            "39\n",
            "2\n",
            "16\n",
            "20\n",
            "14\n",
            "37\n",
            "10\n",
            "40\n",
            "20\n",
            "19\n",
            "a     0\n",
            "b    18\n",
            "c     0\n",
            "d    12\n",
            "e    17\n",
            "f    23\n",
            "g    36\n",
            "h    33\n",
            "i    15\n",
            "j    38\n",
            "k    39\n",
            "l     2\n",
            "m    16\n",
            "n    20\n",
            "o    14\n",
            "p    37\n",
            "q    10\n",
            "r    40\n",
            "s    20\n",
            "t    19\n",
            "dtype: int64\n"
          ]
        }
      ]
    }
  ]
}