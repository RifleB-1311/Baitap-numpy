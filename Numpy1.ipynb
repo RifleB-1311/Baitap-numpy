{
  "nbformat": 4,
  "nbformat_minor": 0,
  "metadata": {
    "colab": {
      "name": "Numpy1.ipynb",
      "provenance": [],
      "collapsed_sections": [],
      "authorship_tag": "ABX9TyO8YnmG+MSm9FjyYP2oAxTd",
      "include_colab_link": true
    },
    "kernelspec": {
      "name": "python3",
      "display_name": "Python 3"
    },
    "language_info": {
      "name": "python"
    }
  },
  "cells": [
    {
      "cell_type": "markdown",
      "metadata": {
        "id": "view-in-github",
        "colab_type": "text"
      },
      "source": [
        "<a href=\"https://colab.research.google.com/github/RifleB-1311/Baitap-numpy/blob/main/Numpy1.ipynb\" target=\"_parent\"><img src=\"https://colab.research.google.com/assets/colab-badge.svg\" alt=\"Open In Colab\"/></a>"
      ]
    },
    {
      "cell_type": "markdown",
      "source": [
        "Bài 1: Xét không gian R3\n",
        "\n",
        ", một điểm A trong không gian này có tọa độ là (5, 7, 14). Hãy khởi tạo\n",
        "\n",
        "giá trị của điểm A nêu trên bằng Numpy."
      ],
      "metadata": {
        "id": "cAMTtylUvmL6"
      }
    },
    {
      "cell_type": "code",
      "execution_count": null,
      "metadata": {
        "colab": {
          "base_uri": "https://localhost:8080/"
        },
        "id": "OwvTlDqxq7JR",
        "outputId": "4830e152-63d6-4ad7-ff64-a4d734c78a50"
      },
      "outputs": [
        {
          "output_type": "stream",
          "name": "stdout",
          "text": [
            "[ 5  7 14]\n"
          ]
        }
      ],
      "source": [
        "import numpy as np\n",
        "a= np.array([5,7,14])\n",
        "print(a)\n"
      ]
    },
    {
      "cell_type": "markdown",
      "source": [
        "Bài 2: Mở rộng không gian lên R15, điểm A trong không gian này có tọa độ là (1, 2, 3, 4, 5, 6, 7,\n",
        "8, 9, 10, 11, 12, 13, 14, 15). Hãy khởi tạo điểm A trong không gian 15 chiều này bằng Numpy."
      ],
      "metadata": {
        "id": "2g70nslJv_dE"
      }
    },
    {
      "cell_type": "code",
      "source": [
        "import numpy as np\n",
        "a= np.arange(1,16,1)\n",
        "print(a)"
      ],
      "metadata": {
        "id": "he-bITuQwBdq",
        "colab": {
          "base_uri": "https://localhost:8080/"
        },
        "outputId": "7ac8a366-63c4-4f80-9707-10fbd5458a43"
      },
      "execution_count": 11,
      "outputs": [
        {
          "output_type": "stream",
          "name": "stdout",
          "text": [
            "[ 1  2  3  4  5  6  7  8  9 10 11 12 13 14 15]\n"
          ]
        }
      ]
    },
    {
      "cell_type": "markdown",
      "source": [
        "Bài 3:Hãy viết chương trình sinh ngẫu nhiên một vector trong không gian Rn với n là số nguyên dương\n",
        "được nhập vào từ bàn phím. Yêu cầu: sử dụng Numpy."
      ],
      "metadata": {
        "id": "a1fUJGi7RJ1z"
      }
    },
    {
      "cell_type": "code",
      "source": [
        "import numpy as np\n",
        "n=int(input(\"Mời nhập số nguyên dương: \"))\n",
        "a= np.random.randn(1,n)\n",
        "print(a)"
      ],
      "metadata": {
        "colab": {
          "base_uri": "https://localhost:8080/"
        },
        "id": "V97ffpktQuQS",
        "outputId": "e1579641-0359-40c1-b0fc-e028dfd2063b"
      },
      "execution_count": 15,
      "outputs": [
        {
          "output_type": "stream",
          "name": "stdout",
          "text": [
            "Mời nhập số nguyên dương: 3\n",
            "[[ 1.30377253 -0.34942489  0.56393747]]\n"
          ]
        }
      ]
    },
    {
      "cell_type": "markdown",
      "source": [
        "Bài 4: Hãy viết chương trình tính chiều dài của vector OA , biết công thức tổng quát để tính chiều dài\n",
        "vector OA trong không gian Rn\n",
        "là:"
      ],
      "metadata": {
        "id": "3UEVT9NwSlkp"
      }
    },
    {
      "cell_type": "code",
      "source": [
        "import numpy as np\n",
        "import math\n",
        "a= [7,-5, 8]\n",
        "OA= np.array(a)\n",
        "print(\"Ma trận:\",OA)\n",
        "s=0\n",
        "for i in OA:\n",
        "  s= s+i**2\n",
        "print(math.sqrt(s))\n",
        "\n",
        "\n"
      ],
      "metadata": {
        "colab": {
          "base_uri": "https://localhost:8080/"
        },
        "id": "3p_6tU6ATFtI",
        "outputId": "730d52ca-2630-4e15-956b-dc3d10fc4640"
      },
      "execution_count": 59,
      "outputs": [
        {
          "output_type": "stream",
          "name": "stdout",
          "text": [
            "Ma trận: [ 7 -5  8]\n",
            "11.74734012447073\n"
          ]
        }
      ]
    },
    {
      "cell_type": "markdown",
      "source": [
        "Bài 5: Trong không gian Rn, hãy sinh ngẫu nhiên 2 điểm A và B. Xác định vector AB và tính chiều dài của vector này ‖AB ‖. Lưu ý: sử dụng Numpy."
      ],
      "metadata": {
        "id": "_tAZ_O2qZeD-"
      }
    },
    {
      "cell_type": "code",
      "source": [
        "import numpy as np\n",
        "import math\n",
        "n= int(input(\"Mời nhập số nguyên dương: \"))\n",
        "a= np.random.randn(n)\n",
        "b= np.random.randn(n)\n",
        "print(\"Tọa độ vectơ 1: \",a)\n",
        "print(\"Tọa độ vectơ 2: \",b)\n",
        "\n",
        "ab=b-a\n",
        "print(\"Tọa độ vectơ AB: \",ab)\n",
        "\n",
        "s=0\n",
        "for i in ab:\n",
        "  s = s+ i**2\n",
        "print(\"Chiều dài vectơ AB :\",math.sqrt(s))\n"
      ],
      "metadata": {
        "colab": {
          "base_uri": "https://localhost:8080/"
        },
        "id": "1Q18092uVxKi",
        "outputId": "9fd949c5-a8d9-49f2-8583-bddef2be6b8b"
      },
      "execution_count": 65,
      "outputs": [
        {
          "output_type": "stream",
          "name": "stdout",
          "text": [
            "Mời nhập số nguyên dương: 3\n",
            "Tọa độ vectơ 1:  [-0.48455301 -0.4504906  -0.60198017]\n",
            "Tọa độ vectơ 2:  [1.8991575  0.58536799 0.17516554]\n",
            "Tọa độ vectơ AB:  [2.38371051 1.03585859 0.77714571]\n",
            "Chiều dài vectơ AB : 2.712754003756087\n"
          ]
        }
      ]
    },
    {
      "cell_type": "markdown",
      "source": [
        "Bài 6: Tích vô hướng của 2 vector a & b⃗ (dot product hoặc inner product hoặc scalar product) được\n",
        "tính theo công thức tổng quát là:\n",
        "\n",
        "a ∙ b⃗ = a1b1 + a2b2 + ⋯ + anbn\n",
        "\n",
        "Trong không gian Rn, hãy sinh ngẫu nhiên 2 vector a & b⃗ và tính tích vô hướng của 2 vector này.\n",
        "Lưu ý: sử dụng numpy để tính tích vô hướng và số nguyên dương n được nhập vào từ bàn phím.\n",
        "Gợi ý: sử dụng hàm numpy.inner()"
      ],
      "metadata": {
        "id": "7A2ZjFaxd4yh"
      }
    },
    {
      "cell_type": "code",
      "source": [
        "import numpy as np\n",
        "n= int(input(\"Mời nhập số nguyên dương: \"))\n",
        "a= np.random.randn(n)\n",
        "b= np.random.randn(n)\n",
        "print(\"Tọa độ vectơ 1: \",a)\n",
        "print(\"Tọa độ vectơ 2: \",b)\n",
        "print(\"Tích vô hướng của vectơ ab: \",np.inner(a,b))"
      ],
      "metadata": {
        "colab": {
          "base_uri": "https://localhost:8080/"
        },
        "id": "CwSTbVuLeACI",
        "outputId": "7378b8fd-f6e3-4822-ec72-3456c220e681"
      },
      "execution_count": 46,
      "outputs": [
        {
          "output_type": "stream",
          "name": "stdout",
          "text": [
            "Mời nhập số nguyên dương: 3\n",
            "Tọa độ vectơ 1:  [-0.69193513 -1.28339053 -0.02208752]\n",
            "Tọa độ vectơ 2:  [ 0.71072607 -2.22588973 -0.09239058]\n",
            "Tích vô hướng của vectơ ab:  2.36695013713983\n"
          ]
        }
      ]
    },
    {
      "cell_type": "markdown",
      "source": [
        "Bài 7: Tích hữu hướng (cross product) của 2 vector a & b⃗ được tính theo công thức tổng quát là:\n",
        "\n",
        "a × b⃗ = ‖a ‖‖b⃗ ‖ sin(θ)\n",
        "\n",
        "Trong không gian Rn, hãy sinh ngẫu nhiên 2 vector a & b⃗ và tính tích hữu hướng của 2 vector này.\n",
        "Lưu ý: sử dụng numpy để tính tích vô hướng và số nguyên dương n được nhập vào từ bàn phím.\n",
        "Gợi ý: sử dụng hàm numpy.cross()"
      ],
      "metadata": {
        "id": "ycWuXy6bfUMo"
      }
    },
    {
      "cell_type": "code",
      "source": [
        "import numpy as np\n",
        "n= int(input(\"Mời nhập số nguyên dương: \"))\n",
        "a= np.random.randn(n)\n",
        "b= np.random.randn(n)\n",
        "print(\"Tọa độ vectơ 1: \",a)\n",
        "print(\"Tọa độ vectơ 2: \",b)\n",
        "print(\"Tích vô hướng của vectơ ab: \",np.cross(a,b))"
      ],
      "metadata": {
        "colab": {
          "base_uri": "https://localhost:8080/"
        },
        "id": "cCTvD50lfaD_",
        "outputId": "09c9b5fe-d874-4124-b6eb-4d5b3c7e20fd"
      },
      "execution_count": 47,
      "outputs": [
        {
          "output_type": "stream",
          "name": "stdout",
          "text": [
            "Mời nhập số nguyên dương: 3\n",
            "Tọa độ vectơ 1:  [0.12109656 0.00648336 0.86062948]\n",
            "Tọa độ vectơ 2:  [ 0.03162228  0.70056497 -0.50624907]\n",
            "Tích vô hướng của vectơ ab:  [-0.60620906  0.08852009  0.08463099]\n"
          ]
        }
      ]
    },
    {
      "cell_type": "markdown",
      "source": [
        "Bài 8 - Phép chuyển vị (transpose): trong numpy, một vector a khi thực hiện chuyển vị sẽ được\n",
        "thực hiện thông qua thao tác a.T\n",
        "Hãy viết chương trình sinh ngẫu nhiên một vector a trong không gian Rn, số nguyên dương n\n",
        "được nhập vào từ bàn phím. Xuất ra màn hình giá của vector a và chuyển vị của vector a"
      ],
      "metadata": {
        "id": "23AxQw2WfjNY"
      }
    },
    {
      "cell_type": "code",
      "source": [
        "import numpy as np\n",
        "n= int(input(\"Mời nhập số nguyên dương: \"))\n",
        "a= np.random.randn(n)\n",
        "print(\"Tọa độ vectơ: \",a)\n",
        "A= np.transpose(a)\n",
        "print(\"Ma trận chuyển vị là:\", A)"
      ],
      "metadata": {
        "colab": {
          "base_uri": "https://localhost:8080/"
        },
        "id": "NMTKU-7FfrHo",
        "outputId": "5b874f47-3141-48ce-c8c8-4e52ee59cb0b"
      },
      "execution_count": 48,
      "outputs": [
        {
          "output_type": "stream",
          "name": "stdout",
          "text": [
            "Mời nhập số nguyên dương: 3\n",
            "Tọa độ vectơ:  [ 0.13338083 -2.58483599  0.51582464]\n",
            "Ma trận chuyển vị là: [ 0.13338083 -2.58483599  0.51582464]\n"
          ]
        }
      ]
    },
    {
      "cell_type": "markdown",
      "source": [
        "Bài 9:"
      ],
      "metadata": {
        "id": "B8Z1GSCxiTzF"
      }
    },
    {
      "cell_type": "code",
      "source": [
        "import numpy as np\n",
        "a = [1, 2, 3, 4, 5]\n",
        "b = [[1], [2], [3], [4], [5]]\n",
        "print(a)    #Xuất a và b ra màn hình\n",
        "print(b)\n",
        "\n",
        "a=np.array(a)     #Tạo vector tương ứng từ a và b, xuất kết quả ra màn hình\n",
        "b=np.array(b)\n",
        "print(a)    \n",
        "print(b)\n",
        "\n",
        "a= np.transpose(a)    #Thực hiện phép chuyển vị đối với 2 vector ở trên và xuất kết quả ra màn hình.\n",
        "b= np.transpose(b)\n",
        "print(a)    \n",
        "print(b)\n",
        "\n",
        "\n",
        "\n"
      ],
      "metadata": {
        "colab": {
          "base_uri": "https://localhost:8080/"
        },
        "id": "uRTsPE-5iVI9",
        "outputId": "74f9c03f-9bb3-4c35-8945-4a2029ba6390"
      },
      "execution_count": 67,
      "outputs": [
        {
          "output_type": "stream",
          "name": "stdout",
          "text": [
            "[1, 2, 3, 4, 5]\n",
            "[[1], [2], [3], [4], [5]]\n",
            "[1 2 3 4 5]\n",
            "[[1]\n",
            " [2]\n",
            " [3]\n",
            " [4]\n",
            " [5]]\n",
            "[1 2 3 4 5]\n",
            "[[1 2 3 4 5]]\n"
          ]
        }
      ]
    },
    {
      "cell_type": "markdown",
      "source": [
        "Bài 10: Trong không gian Rn, hãy sinh ngẫu nhiên vector a và b⃗ , n là số nguyên dương nhập vào từ bàn phím. Hãy:\n",
        "\n",
        " Thực hiện phép nhân: ma với m là số bất kỳ, xuất kết quả ra màn hình\n",
        "\n",
        " Thực hiện phép cộng 2 vector: a + b⃗ và xuất kết quả ra màn hình."
      ],
      "metadata": {
        "id": "9uWqpn5Bu-8N"
      }
    },
    {
      "cell_type": "code",
      "source": [
        "import numpy as np\n",
        "n= int(input(\"Mời nhập số nguyên dương: \"))\n",
        "a= np.random.randn(n)\n",
        "b= np.random.randn(n)\n",
        "print(\"Tọa độ vectơ 1: \",a)\n",
        "print(\"Tọa độ vectơ 2: \",b)\n",
        "\n",
        "m=random.randint(1,10)\n",
        "print(\"Số ngẫu nhiên: \",m)\n",
        "\n",
        "tich= m*a\n",
        "tong= a+b\n",
        "print(\"Phép nhân ma: \",tich)\n",
        "print(\"Tổng 2 vecto: \",tong)"
      ],
      "metadata": {
        "colab": {
          "base_uri": "https://localhost:8080/"
        },
        "id": "A-A-tOn6vE3l",
        "outputId": "27ff71f1-a76d-4f69-d690-f018e48357fb"
      },
      "execution_count": 81,
      "outputs": [
        {
          "output_type": "stream",
          "name": "stdout",
          "text": [
            "Mời nhập số nguyên dương: 3\n",
            "Tọa độ vectơ 1:  [-0.19225792 -1.12774303  0.55875872]\n",
            "Tọa độ vectơ 2:  [ 1.50135711  1.61902722 -0.6197172 ]\n",
            "Số ngẫu nhiên:  9\n",
            "Phép nhân ma:  [ -1.73032126 -10.14968731   5.02882849]\n",
            "Tổng 2 vecto:  [ 1.3090992   0.49128418 -0.06095848]\n"
          ]
        }
      ]
    }
  ]
}